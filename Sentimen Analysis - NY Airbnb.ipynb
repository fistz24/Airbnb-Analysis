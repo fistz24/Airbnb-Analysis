{
 "cells": [
  {
   "cell_type": "code",
   "execution_count": 1,
   "metadata": {},
   "outputs": [
    {
     "data": {
      "text/html": [
       "        <script type=\"text/javascript\">\n",
       "        window.PlotlyConfig = {MathJaxConfig: 'local'};\n",
       "        if (window.MathJax) {MathJax.Hub.Config({SVG: {font: \"STIX-Web\"}});}\n",
       "        if (typeof require !== 'undefined') {\n",
       "        require.undef(\"plotly\");\n",
       "        requirejs.config({\n",
       "            paths: {\n",
       "                'plotly': ['https://cdn.plot.ly/plotly-latest.min']\n",
       "            }\n",
       "        });\n",
       "        require(['plotly'], function(Plotly) {\n",
       "            window._Plotly = Plotly;\n",
       "        });\n",
       "        }\n",
       "        </script>\n",
       "        "
      ]
     },
     "metadata": {},
     "output_type": "display_data"
    }
   ],
   "source": [
    "import sys\n",
    "import pandas as pd\n",
    "import numpy as np\n",
    "import os\n",
    "import io\n",
    "import matplotlib.pyplot as plt\n",
    "import matplotlib.colors\n",
    "import json\n",
    "from urllib.request import urlopen\n",
    "import dash\n",
    "import plotly_express as px\n",
    "import plotly.graph_objects as go\n",
    "import nbformat\n",
    "import json\n",
    "import urllib\n",
    "import seaborn as sns\n",
    "from collections import Counter\n",
    "from sklearn.impute import SimpleImputer\n",
    "from sklearn import preprocessing\n",
    "from sklearn.neighbors import KNeighborsRegressor as KNN\n",
    "from sklearn.neighbors import KNeighborsClassifier as KNNc\n",
    "import sklearn.metrics as Metrics\n",
    "import re \n",
    "import nltk\n",
    "from shapely.geometry import Point\n",
    "import cufflinks as cf\n",
    "cf.go_offline()\n",
    "cf.set_config_file(offline=False, world_readable=True)\n",
    "from nltk.sentiment.vader import SentimentIntensityAnalyzer\n",
    "from sklearn.feature_extraction.text import CountVectorizer\n",
    "from sklearn.feature_extraction.text import TfidfVectorizer\n",
    "from sklearn.preprocessing import LabelBinarizer\n",
    "from nltk.corpus import stopwords\n",
    "from nltk.stem.porter import PorterStemmer\n",
    "from wordcloud import WordCloud,STOPWORDS\n",
    "from nltk.stem import WordNetLemmatizer\n",
    "from nltk.tokenize import word_tokenize,sent_tokenize\n",
    "from nltk.probability import FreqDist\n",
    "import re,string,unicodedata\n",
    "from nltk.tokenize.toktok import ToktokTokenizer\n",
    "from nltk.stem import LancasterStemmer,WordNetLemmatizer\n",
    "from sklearn.linear_model import LogisticRegression,SGDClassifier\n",
    "from nltk.classify.scikitlearn import SklearnClassifier\n",
    "from sklearn.naive_bayes import MultinomialNB\n",
    "from sklearn.svm import SVC\n",
    "from textblob import TextBlob\n",
    "from textblob import Word\n",
    "from sklearn.metrics import classification_report,confusion_matrix,accuracy_score\n",
    "import pickle\n",
    "from sklearn.svm import SVC, LinearSVC, NuSVC\n",
    "from nltk.classify import ClassifierI\n",
    "from statistics import mode"
   ]
  },
  {
   "cell_type": "code",
   "execution_count": 2,
   "metadata": {},
   "outputs": [],
   "source": [
    "rev= pd.read_csv(\"/Users/fondairenasantoso/airbnb_data_analysis/data/reviews1.csv\")\n",
    "ny = pd.read_csv(\"/Users/fondairenasantoso/airbnb_data_analysis/cleaned_airbnb_listings.csv\")"
   ]
  },
  {
   "cell_type": "code",
   "execution_count": 3,
   "metadata": {},
   "outputs": [],
   "source": [
    "merged_rev = ny[['id','property_type','host_id']].merge(rev[['id','listing_id','comments','reviewer_id']],on='id',how='left')"
   ]
  },
  {
   "cell_type": "code",
   "execution_count": 4,
   "metadata": {},
   "outputs": [],
   "source": [
    "merged_rev = merged_rev.dropna(subset=['comments'], how='any')"
   ]
  },
  {
   "cell_type": "code",
   "execution_count": 5,
   "metadata": {},
   "outputs": [
    {
     "data": {
      "text/html": [
       "<div>\n",
       "<style scoped>\n",
       "    .dataframe tbody tr th:only-of-type {\n",
       "        vertical-align: middle;\n",
       "    }\n",
       "\n",
       "    .dataframe tbody tr th {\n",
       "        vertical-align: top;\n",
       "    }\n",
       "\n",
       "    .dataframe thead th {\n",
       "        text-align: right;\n",
       "    }\n",
       "</style>\n",
       "<table border=\"1\" class=\"dataframe\">\n",
       "  <thead>\n",
       "    <tr style=\"text-align: right;\">\n",
       "      <th></th>\n",
       "      <th>id</th>\n",
       "      <th>property_type</th>\n",
       "      <th>host_id</th>\n",
       "      <th>listing_id</th>\n",
       "      <th>comments</th>\n",
       "      <th>reviewer_id</th>\n",
       "    </tr>\n",
       "  </thead>\n",
       "  <tbody>\n",
       "    <tr>\n",
       "      <th>59</th>\n",
       "      <td>17037.0</td>\n",
       "      <td>Apartment</td>\n",
       "      <td>66035.0</td>\n",
       "      <td>5803.0</td>\n",
       "      <td>A huge thank you to Laurie for 'being there' w...</td>\n",
       "      <td>42873.0</td>\n",
       "    </tr>\n",
       "    <tr>\n",
       "      <th>85</th>\n",
       "      <td>23545.0</td>\n",
       "      <td>Townhouse</td>\n",
       "      <td>92411.0</td>\n",
       "      <td>8110.0</td>\n",
       "      <td>Our family of 5 (three nine year old children ...</td>\n",
       "      <td>63099.0</td>\n",
       "    </tr>\n",
       "    <tr>\n",
       "      <th>163</th>\n",
       "      <td>45936.0</td>\n",
       "      <td>Bed and breakfast</td>\n",
       "      <td>867225.0</td>\n",
       "      <td>21293.0</td>\n",
       "      <td>Silvia made made my trip perfect. The appartme...</td>\n",
       "      <td>121488.0</td>\n",
       "    </tr>\n",
       "    <tr>\n",
       "      <th>306</th>\n",
       "      <td>84010.0</td>\n",
       "      <td>Boutique hotel</td>\n",
       "      <td>417504.0</td>\n",
       "      <td>9782.0</td>\n",
       "      <td>good place, nice price, everything OK!</td>\n",
       "      <td>185403.0</td>\n",
       "    </tr>\n",
       "    <tr>\n",
       "      <th>384</th>\n",
       "      <td>141335.0</td>\n",
       "      <td>House</td>\n",
       "      <td>687361.0</td>\n",
       "      <td>29628.0</td>\n",
       "      <td>We have been very satisfied by the ten days sp...</td>\n",
       "      <td>228033.0</td>\n",
       "    </tr>\n",
       "  </tbody>\n",
       "</table>\n",
       "</div>"
      ],
      "text/plain": [
       "           id      property_type   host_id  listing_id  \\\n",
       "59    17037.0          Apartment   66035.0      5803.0   \n",
       "85    23545.0          Townhouse   92411.0      8110.0   \n",
       "163   45936.0  Bed and breakfast  867225.0     21293.0   \n",
       "306   84010.0     Boutique hotel  417504.0      9782.0   \n",
       "384  141335.0              House  687361.0     29628.0   \n",
       "\n",
       "                                              comments  reviewer_id  \n",
       "59   A huge thank you to Laurie for 'being there' w...      42873.0  \n",
       "85   Our family of 5 (three nine year old children ...      63099.0  \n",
       "163  Silvia made made my trip perfect. The appartme...     121488.0  \n",
       "306             good place, nice price, everything OK!     185403.0  \n",
       "384  We have been very satisfied by the ten days sp...     228033.0  "
      ]
     },
     "execution_count": 5,
     "metadata": {},
     "output_type": "execute_result"
    }
   ],
   "source": [
    "merged_rev.head()"
   ]
  },
  {
   "cell_type": "code",
   "execution_count": 6,
   "metadata": {},
   "outputs": [],
   "source": [
    "from nltk.corpus import stopwords\n",
    "stops = set(stopwords.words(\"english\"))\n",
    "\n",
    "from nltk.stem.snowball import SnowballStemmer\n",
    "stemmer = SnowballStemmer('english')"
   ]
  },
  {
   "cell_type": "code",
   "execution_count": 7,
   "metadata": {},
   "outputs": [],
   "source": [
    "def custom_tokenize(text):\n",
    "    if not text:\n",
    "        print('The text to be tokenized is a None type. Defaulting to blank string.')\n",
    "        text = ''\n",
    "    return word_tokenize(text)\n",
    "merged_rev['tokenized_column'] = merged_rev.comments.apply(custom_tokenize)"
   ]
  },
  {
   "cell_type": "code",
   "execution_count": 8,
   "metadata": {},
   "outputs": [
    {
     "data": {
      "text/html": [
       "<div>\n",
       "<style scoped>\n",
       "    .dataframe tbody tr th:only-of-type {\n",
       "        vertical-align: middle;\n",
       "    }\n",
       "\n",
       "    .dataframe tbody tr th {\n",
       "        vertical-align: top;\n",
       "    }\n",
       "\n",
       "    .dataframe thead th {\n",
       "        text-align: right;\n",
       "    }\n",
       "</style>\n",
       "<table border=\"1\" class=\"dataframe\">\n",
       "  <thead>\n",
       "    <tr style=\"text-align: right;\">\n",
       "      <th></th>\n",
       "      <th>id</th>\n",
       "      <th>property_type</th>\n",
       "      <th>host_id</th>\n",
       "      <th>listing_id</th>\n",
       "      <th>comments</th>\n",
       "      <th>reviewer_id</th>\n",
       "      <th>tokenized_column</th>\n",
       "    </tr>\n",
       "  </thead>\n",
       "  <tbody>\n",
       "    <tr>\n",
       "      <th>59</th>\n",
       "      <td>17037.0</td>\n",
       "      <td>Apartment</td>\n",
       "      <td>66035.0</td>\n",
       "      <td>5803.0</td>\n",
       "      <td>A huge thank you to Laurie for 'being there' w...</td>\n",
       "      <td>42873.0</td>\n",
       "      <td>[A, huge, thank, you, to, Laurie, for, 'being,...</td>\n",
       "    </tr>\n",
       "    <tr>\n",
       "      <th>85</th>\n",
       "      <td>23545.0</td>\n",
       "      <td>Townhouse</td>\n",
       "      <td>92411.0</td>\n",
       "      <td>8110.0</td>\n",
       "      <td>Our family of 5 (three nine year old children ...</td>\n",
       "      <td>63099.0</td>\n",
       "      <td>[Our, family, of, 5, (, three, nine, year, old...</td>\n",
       "    </tr>\n",
       "    <tr>\n",
       "      <th>163</th>\n",
       "      <td>45936.0</td>\n",
       "      <td>Bed and breakfast</td>\n",
       "      <td>867225.0</td>\n",
       "      <td>21293.0</td>\n",
       "      <td>Silvia made made my trip perfect. The appartme...</td>\n",
       "      <td>121488.0</td>\n",
       "      <td>[Silvia, made, made, my, trip, perfect, ., The...</td>\n",
       "    </tr>\n",
       "    <tr>\n",
       "      <th>306</th>\n",
       "      <td>84010.0</td>\n",
       "      <td>Boutique hotel</td>\n",
       "      <td>417504.0</td>\n",
       "      <td>9782.0</td>\n",
       "      <td>good place, nice price, everything OK!</td>\n",
       "      <td>185403.0</td>\n",
       "      <td>[good, place, ,, nice, price, ,, everything, O...</td>\n",
       "    </tr>\n",
       "    <tr>\n",
       "      <th>384</th>\n",
       "      <td>141335.0</td>\n",
       "      <td>House</td>\n",
       "      <td>687361.0</td>\n",
       "      <td>29628.0</td>\n",
       "      <td>We have been very satisfied by the ten days sp...</td>\n",
       "      <td>228033.0</td>\n",
       "      <td>[We, have, been, very, satisfied, by, the, ten...</td>\n",
       "    </tr>\n",
       "  </tbody>\n",
       "</table>\n",
       "</div>"
      ],
      "text/plain": [
       "           id      property_type   host_id  listing_id  \\\n",
       "59    17037.0          Apartment   66035.0      5803.0   \n",
       "85    23545.0          Townhouse   92411.0      8110.0   \n",
       "163   45936.0  Bed and breakfast  867225.0     21293.0   \n",
       "306   84010.0     Boutique hotel  417504.0      9782.0   \n",
       "384  141335.0              House  687361.0     29628.0   \n",
       "\n",
       "                                              comments  reviewer_id  \\\n",
       "59   A huge thank you to Laurie for 'being there' w...      42873.0   \n",
       "85   Our family of 5 (three nine year old children ...      63099.0   \n",
       "163  Silvia made made my trip perfect. The appartme...     121488.0   \n",
       "306             good place, nice price, everything OK!     185403.0   \n",
       "384  We have been very satisfied by the ten days sp...     228033.0   \n",
       "\n",
       "                                      tokenized_column  \n",
       "59   [A, huge, thank, you, to, Laurie, for, 'being,...  \n",
       "85   [Our, family, of, 5, (, three, nine, year, old...  \n",
       "163  [Silvia, made, made, my, trip, perfect, ., The...  \n",
       "306  [good, place, ,, nice, price, ,, everything, O...  \n",
       "384  [We, have, been, very, satisfied, by, the, ten...  "
      ]
     },
     "execution_count": 8,
     "metadata": {},
     "output_type": "execute_result"
    }
   ],
   "source": [
    "merged_rev.head()"
   ]
  },
  {
   "cell_type": "code",
   "execution_count": 9,
   "metadata": {},
   "outputs": [],
   "source": [
    "#remove stopwords\n",
    "merged_rev = merged_rev['tokenized_column'].apply(lambda x: [item for item in x if item not in stops])"
   ]
  },
  {
   "cell_type": "code",
   "execution_count": 10,
   "metadata": {},
   "outputs": [
    {
     "data": {
      "text/plain": [
       "(149,)"
      ]
     },
     "execution_count": 10,
     "metadata": {},
     "output_type": "execute_result"
    }
   ],
   "source": [
    "merged_rev.shape"
   ]
  },
  {
   "cell_type": "code",
   "execution_count": 12,
   "metadata": {},
   "outputs": [
    {
     "data": {
      "text/plain": [
       "59       [A, huge, thank, Laurie, 'being, ', much, advi...\n",
       "85       [Our, family, 5, (, three, nine, year, old, ch...\n",
       "163      [Silvia, made, made, trip, perfect, ., The, ap...\n",
       "306      [good, place, ,, nice, price, ,, everything, O...\n",
       "384      [We, satisfied, ten, days, spent, apartment, C...\n",
       "                               ...                        \n",
       "42678    [It, great, stay, apartment, Brooklyn, ., I, w...\n",
       "43573    [This, apartment, absolutely, beautiful, loved...\n",
       "48216    [Lee, kind, welcoming, host, ., Her, descripti...\n",
       "48859    [Ben, 's, place, great, ., Heart, soho, near, ...\n",
       "49104    [I, would, recommend, room, anyone, I, would, ...\n",
       "Name: tokenized_column, Length: 149, dtype: object"
      ]
     },
     "execution_count": 12,
     "metadata": {},
     "output_type": "execute_result"
    }
   ],
   "source": [
    "merged_rev"
   ]
  },
  {
   "cell_type": "code",
   "execution_count": null,
   "metadata": {},
   "outputs": [],
   "source": []
  },
  {
   "cell_type": "code",
   "execution_count": null,
   "metadata": {},
   "outputs": [],
   "source": []
  },
  {
   "cell_type": "code",
   "execution_count": null,
   "metadata": {},
   "outputs": [],
   "source": []
  }
 ],
 "metadata": {
  "kernelspec": {
   "display_name": "airbnb",
   "language": "python",
   "name": "airbnb"
  }
 },
 "nbformat": 4,
 "nbformat_minor": 2
}
